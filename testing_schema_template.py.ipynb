{
 "cells": [
  {
   "cell_type": "code",
   "execution_count": 1,
   "metadata": {
    "collapsed": true
   },
   "outputs": [],
   "source": [
    "from ingest.template.schema_template import SchemaTemplate\n",
    "test_template = SchemaTemplate()"
   ]
  },
  {
   "cell_type": "code",
   "execution_count": 2,
   "outputs": [],
   "source": [
    "from ingest.template.spreadsheet_builder import SpreadsheetBuilder\n",
    "\n",
    "DEFAULT_INGEST_URL = \"http://api.ingest.data.humancellatlas.org\"\n",
    "DEFAULT_SCHEMAS_ENDPOINT = \"/schemas/search/latestSchemas\"\n",
    "DEFAULT_MIGRATIONS_URL = \"https://schema.humancellatlas.org/property_migrations\""
   ],
   "metadata": {
    "collapsed": false,
    "pycharm": {
     "name": "#%%\n"
    }
   }
  },
  {
   "cell_type": "code",
   "execution_count": null,
   "outputs": [],
   "source": [],
   "metadata": {
    "collapsed": false,
    "pycharm": {
     "name": "#%%\n"
    }
   }
  },
  {
   "cell_type": "code",
   "execution_count": 3,
   "outputs": [],
   "source": [
    "test_spreadsheet_builder = SpreadsheetBuilder()"
   ],
   "metadata": {
    "collapsed": false,
    "pycharm": {
     "name": "#%%\n"
    }
   }
  },
  {
   "cell_type": "code",
   "execution_count": 16,
   "outputs": [
    {
     "name": "stdout",
     "output_type": "stream",
     "text": [
      "'user_friendly'\n",
      "Could not find user friendly name.\n"
     ]
    },
    {
     "data": {
      "text/plain": "{'value_type': 'string',\n 'multivalue': False,\n 'user_friendly': 'Catalog number',\n 'description': 'The catalog number of the kit/reagent.',\n 'example': '20014279',\n 'required': False,\n 'identifiable': False,\n 'external_reference': False}"
     },
     "execution_count": 16,
     "metadata": {},
     "output_type": "execute_result"
    }
   ],
   "source": [
    "test_spreadsheet_builder.get_user_friendly_column_name(test_template,\n",
    "                                                       \"imaging_protocol.probe.probe_reagents.catalog_number\")\n",
    "test_template.lookup_property_attributes_in_metadata(\"imaging_protocol.probe.probe_reagents.catalog_number\")"
   ],
   "metadata": {
    "collapsed": false,
    "pycharm": {
     "name": "#%%\n"
    }
   }
  },
  {
   "cell_type": "code",
   "execution_count": 17,
   "outputs": [
    {
     "data": {
      "text/plain": "'heart; immune system'"
     },
     "execution_count": 17,
     "metadata": {},
     "output_type": "execute_result"
    }
   ],
   "source": [
    "test_spreadsheet_builder.get_value_for_column(test_template, \"specimen_from_organism.organ.ontology_label\", \"example\")"
   ],
   "metadata": {
    "collapsed": false,
    "pycharm": {
     "name": "#%%\n"
    }
   }
  },
  {
   "cell_type": "code",
   "execution_count": null,
   "outputs": [],
   "source": [
    "test_template.lookup_property_attributes_in_metadata(\"donor_organism.human_specific.body_mass_index.user_friendly\")"
   ],
   "metadata": {
    "collapsed": false,
    "pycharm": {
     "name": "#%%\n"
    }
   }
  },
  {
   "cell_type": "code",
   "execution_count": null,
   "outputs": [],
   "source": [
    "test_spreadsheet_builder.get_user_friendly_column_name(test_template,\n",
    "                                                       \"donor_organism.height_unit\")"
   ],
   "metadata": {
    "collapsed": false,
    "pycharm": {
     "name": "#%%\n"
    }
   }
  },
  {
   "cell_type": "code",
   "execution_count": null,
   "outputs": [],
   "source": [
    "test_spreadsheet_builder.get_user_friendly_column_name(test_template,\n",
    "                                                       \"project.contributors.project_role.ontology_label\")"
   ],
   "metadata": {
    "collapsed": false,
    "pycharm": {
     "name": "#%%\n"
    }
   }
  },
  {
   "cell_type": "code",
   "execution_count": null,
   "outputs": [],
   "source": [
    "test_spreadsheet_builder.get_user_friendly_column_name(test_template,\n",
    "                                                       \"donor_organism.organism_age_unit.text\")"
   ],
   "metadata": {
    "collapsed": false,
    "pycharm": {
     "name": "#%%\n"
    }
   }
  },
  {
   "cell_type": "code",
   "execution_count": null,
   "outputs": [],
   "source": [
    "test_spreadsheet_builder.get_user_friendly_column_name(test_template,\n",
    "                                                       \"timecourse.unit.user_friendly\")"
   ],
   "metadata": {
    "collapsed": false,
    "pycharm": {
     "name": "#%%\n"
    }
   }
  },
  {
   "cell_type": "code",
   "execution_count": null,
   "outputs": [],
   "source": [
    "test_spreadsheet_builder.get_user_friendly_column_name(test_template,\n",
    "                                                       \"donor_organism.biomaterial_core.biomaterial_id\",\n",
    "                                                       primary_schema=\"donor_organism\")"
   ],
   "metadata": {
    "collapsed": false,
    "pycharm": {
     "name": "#%%\n"
    }
   }
  },
  {
   "cell_type": "code",
   "execution_count": null,
   "outputs": [],
   "source": [
    "test_spreadsheet_builder.get_user_friendly_column_name(test_template,\n",
    "                                                       \"donor_organism.organism_age_unit\")"
   ],
   "metadata": {
    "collapsed": false,
    "pycharm": {
     "name": "#%%\n"
    }
   }
  },
  {
   "cell_type": "code",
   "execution_count": null,
   "outputs": [],
   "source": [
    "test_spreadsheet_builder.get_user_friendly_column_name(test_template,\n",
    "                                                       \"donor_organism.organism_age_unit\")"
   ],
   "metadata": {
    "collapsed": false,
    "pycharm": {
     "name": "#%%\n"
    }
   }
  },
  {
   "cell_type": "code",
   "execution_count": null,
   "outputs": [],
   "source": [
    "test_template.lookup_property_attributes_in_metadata(\"donor_organism.organism_age_unit.text.user_friendly\")"
   ],
   "metadata": {
    "collapsed": false,
    "pycharm": {
     "name": "#%%\n"
    }
   }
  },
  {
   "cell_type": "code",
   "execution_count": null,
   "outputs": [],
   "source": [
    "test_template.lookup_property_from_template(\"donor_organism.organism_age_unit.text.user_friendly\")"
   ],
   "metadata": {
    "collapsed": false,
    "pycharm": {
     "name": "#%%\n"
    }
   }
  },
  {
   "cell_type": "code",
   "execution_count": null,
   "outputs": [],
   "source": [
    "test_template.json_schemas[24]['properties']['organism_age_unit']['user_friendly']"
   ],
   "metadata": {
    "collapsed": false,
    "pycharm": {
     "name": "#%%\n"
    }
   }
  },
  {
   "cell_type": "code",
   "execution_count": null,
   "outputs": [],
   "source": [
    "test_spreadsheet_builder.get_user_friendly_column_name(test_template,\n",
    "                                                       \"specimen_from_organism.purchased_specimen.manufacturer\")"
   ],
   "metadata": {
    "collapsed": false,
    "pycharm": {
     "name": "#%%\n"
    }
   }
  },
  {
   "cell_type": "code",
   "execution_count": null,
   "outputs": [],
   "source": [
    "test_template.lookup_property_attributes_in_metadata(\"specimen_from_organism.purchased_specimen.manufacturer.user_friendly\")"
   ],
   "metadata": {
    "collapsed": false,
    "pycharm": {
     "name": "#%%\n"
    }
   }
  },
  {
   "cell_type": "code",
   "execution_count": null,
   "outputs": [],
   "source": [
    "test_spreadsheet_builder.get_user_friendly_column_name(test_template, \"library_preparation_protocol.umi_barcode.barcode_offset\")"
   ],
   "metadata": {
    "collapsed": false,
    "pycharm": {
     "name": "#%%\n"
    }
   }
  },
  {
   "cell_type": "code",
   "execution_count": null,
   "outputs": [],
   "source": [
    "test_template.lookup_property_attributes_in_metadata(\"specimen_from_organism.purchased_specimen\")['schema']['module'] == \"purchased_reagents\"\n"
   ],
   "metadata": {
    "collapsed": false,
    "pycharm": {
     "name": "#%%\n"
    }
   }
  },
  {
   "cell_type": "code",
   "execution_count": null,
   "outputs": [],
   "source": [
    "test_template.lookup_property_attributes_in_metadata(\"specimen_from_organism.purchased_specimen\")"
   ],
   "metadata": {
    "collapsed": false,
    "pycharm": {
     "name": "#%%\n"
    }
   }
  },
  {
   "cell_type": "code",
   "execution_count": null,
   "outputs": [],
   "source": [
    "test_template.json_schemas[21]['properties']['purchased_specimen']['user_friendly']\n"
   ],
   "metadata": {
    "collapsed": false,
    "pycharm": {
     "name": "#%%\n"
    }
   }
  },
  {
   "cell_type": "code",
   "execution_count": null,
   "outputs": [],
   "source": [
    "test_template.meta_data_properties['specimen_from_organism']['purchased_specimen']\n"
   ],
   "metadata": {
    "collapsed": false,
    "pycharm": {
     "name": "#%%\n"
    }
   }
  },
  {
   "cell_type": "code",
   "execution_count": null,
   "outputs": [],
   "source": [
    "import pprint\n",
    "type(test_template.json_schemas)\n",
    "for item in test_template.json_schemas:\n",
    "    try:\n",
    "        if item['name'] == \"donor_organism\":\n",
    "            print(item[\"properties\"][\"organism_age_unit\"][\"user_friendly\"])\n",
    "    except KeyError as e:\n",
    "        print(\"no name for schema\")\n",
    "        continue"
   ],
   "metadata": {
    "collapsed": false,
    "pycharm": {
     "name": "#%%\n"
    }
   }
  },
  {
   "cell_type": "code",
   "execution_count": null,
   "outputs": [],
   "source": [
    "test_template\n",
    "single_schema_template = SchemaTemplate(metadata_schema_urls=['https://schema.dev.data.humancellatlas.org/type/biomaterial/15.5.0/donor_organism'])"
   ],
   "metadata": {
    "collapsed": false,
    "pycharm": {
     "name": "#%%\n"
    }
   }
  },
  {
   "cell_type": "code",
   "execution_count": null,
   "outputs": [],
   "source": [],
   "metadata": {
    "collapsed": false,
    "pycharm": {
     "name": "#%%\n"
    }
   }
  }
 ],
 "metadata": {
  "kernelspec": {
   "display_name": "Python 3",
   "language": "python",
   "name": "python3"
  },
  "language_info": {
   "codemirror_mode": {
    "name": "ipython",
    "version": 2
   },
   "file_extension": ".py",
   "mimetype": "text/x-python",
   "name": "python",
   "nbconvert_exporter": "python",
   "pygments_lexer": "ipython2",
   "version": "2.7.6"
  }
 },
 "nbformat": 4,
 "nbformat_minor": 0
}